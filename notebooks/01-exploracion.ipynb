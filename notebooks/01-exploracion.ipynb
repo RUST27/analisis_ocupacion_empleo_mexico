{
 "cells": [
  {
   "cell_type": "code",
   "id": "initial_id",
   "metadata": {
    "collapsed": true,
    "ExecuteTime": {
     "end_time": "2025-06-11T06:18:19.075358Z",
     "start_time": "2025-06-11T06:18:18.908355Z"
    }
   },
   "source": [
    "import pandas as pd\n",
    "import numpy as np\n",
    "import matplotlib.pyplot as plt\n",
    "import seaborn as sns\n",
    "\n",
    "empleos_inegi = pd.read_csv(\"../Data/inegi_empleos.csv\")\n",
    "empleos_inegi.info()"
   ],
   "outputs": [
    {
     "name": "stdout",
     "output_type": "stream",
     "text": [
      "<class 'pandas.core.frame.DataFrame'>\n",
      "RangeIndex: 102816 entries, 0 to 102815\n",
      "Data columns (total 16 columns):\n",
      " #   Column              Non-Null Count   Dtype  \n",
      "---  ------              --------------   -----  \n",
      " 0   State ID            102816 non-null  int64  \n",
      " 1   State               102816 non-null  object \n",
      " 2   Municipality MA ID  102816 non-null  int64  \n",
      " 3   Municipality MA     102816 non-null  object \n",
      " 4   Category ID         102816 non-null  int64  \n",
      " 5   Category            102816 non-null  object \n",
      " 6   Sector ID           102816 non-null  object \n",
      " 7   Sector              102816 non-null  object \n",
      " 8   Age Range ID        102816 non-null  int64  \n",
      " 9   Age Range           102816 non-null  object \n",
      " 10  Workforce           102816 non-null  int64  \n",
      " 11  Worked Hours Week   101779 non-null  float64\n",
      " 12  Worked Days Week    101907 non-null  float64\n",
      " 13  Monthly Wage        102816 non-null  float64\n",
      " 14  Number of Records   102816 non-null  int64  \n",
      " 15  Workforce MOE       102816 non-null  float64\n",
      "dtypes: float64(4), int64(6), object(6)\n",
      "memory usage: 12.6+ MB\n"
     ]
    }
   ],
   "execution_count": 5
  }
 ],
 "metadata": {
  "kernelspec": {
   "display_name": "Python 3",
   "language": "python",
   "name": "python3"
  },
  "language_info": {
   "codemirror_mode": {
    "name": "ipython",
    "version": 2
   },
   "file_extension": ".py",
   "mimetype": "text/x-python",
   "name": "python",
   "nbconvert_exporter": "python",
   "pygments_lexer": "ipython2",
   "version": "2.7.6"
  }
 },
 "nbformat": 4,
 "nbformat_minor": 5
}
